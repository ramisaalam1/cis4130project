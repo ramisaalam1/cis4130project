{
 "cells": [
  {
   "cell_type": "code",
   "execution_count": 1,
   "id": "d550663d",
   "metadata": {},
   "outputs": [],
   "source": [
    "import pandas as pd\n",
    "filepath = \"gs://my-bigdata-project-ra/landing\""
   ]
  },
  {
   "cell_type": "code",
   "execution_count": 2,
   "id": "b43e38be",
   "metadata": {},
   "outputs": [],
   "source": [
    "# List of data files\n",
    "filename_list = [\n",
    "    'yellow_tripdata_2022-01.parquet',\n",
    "    'yellow_tripdata_2022-02.parquet', \n",
    "    'yellow_tripdata_2022-03.parquet',\n",
    "    'yellow_tripdata_2022-04.parquet',\n",
    "    'yellow_tripdata_2022-05.parquet',\n",
    "    'yellow_tripdata_2022-06.parquet',\n",
    "    'yellow_tripdata_2022-07.parquet',\n",
    "    'yellow_tripdata_2022-08.parquet',\n",
    "    'yellow_tripdata_2022-09.parquet',\n",
    "    'yellow_tripdata_2022-10.parquet',\n",
    "    'yellow_tripdata_2022-11.parquet',\n",
    "    'yellow_tripdata_2022-12.parquet'\n",
    "  ]"
   ]
  },
  {
   "cell_type": "code",
   "execution_count": 3,
   "id": "0c46a20a",
   "metadata": {},
   "outputs": [],
   "source": [
    "def perform_EDA(df : pd.DataFrame, filename : str):\n",
    "    \"\"\"\n",
    "    perform_EDA(df : pd.DataFrame, filename : str)\n",
    "    Accepts a dataframe and a text filename as inputs.\n",
    "    Runs some basic statistics on the data and outputs to console.\n",
    "    Returns nothing.\n",
    "    \"\"\"\n",
    "    print(f\"{filename} Number of records: {df.count()}\" )\n",
    "    print(f\"{filename} Number of duplicate records: { len(df)-len(df.drop_duplicates())}\" )\n",
    "    print(f\"{filename} Info\")\n",
    "    print(df.info())\n",
    "    print(f\"{filename} Describe\")\n",
    "    print(df.describe())\n",
    "    print(\"\\n\" + \"-\"*50 + \"\\n\")\n",
    "    print(f\"{filename} Columns with null values\")\n",
    "    print(df.columns[df.isnull().any()].tolist())\n",
    "    rows_with_null_values = df.isnull().any(axis=1).sum()\n",
    "    print(f\"{filename} Number of Rows with null values: {rows_with_null_values}\" )\n",
    "    integer_column_list = df.select_dtypes(include='int64').columns\n",
    "    print(f\"{filename} Integer data type columns: {integer_column_list}\")\n",
    "    float_column_list = df.select_dtypes(include='float64').columns\n",
    "    print(f\"{filename} Float data type columns: {float_column_list}\")\n",
    "    print(\"\\n\" + \"-\"*50 + \"\\n\")\n",
    "    print(f\"{filename} Min pickup date: {df['tpep_pickup_datetime'].min()}\")\n",
    "    print(f\"{filename} Max pickup date: {df['tpep_pickup_datetime'].max()}\")\n",
    "    print(\"\\n\" + \"-\"*100 + \"\\n\")"
   ]
  },
  {
   "cell_type": "code",
   "execution_count": null,
   "id": "942fbe8c",
   "metadata": {},
   "outputs": [],
   "source": [
    "for filename in filename_list:\n",
    "    # Read in taxi trip data\n",
    "    print(f\"Working on file: {filename}\")\n",
    "    df = pd.read_parquet(f\"{filepath}/{filename}\")\n",
    "    perform_EDA(df, filename)\n",
    "    # remove the dataframe from memory\n",
    "    #del df"
   ]
  },
  {
   "cell_type": "code",
   "execution_count": null,
   "id": "72db90d3",
   "metadata": {},
   "outputs": [],
   "source": [
    "#Graph 1\n",
    "import matplotlib.pyplot as plt\n",
    "df['pickup_hour'] = df['tpep_pickup_datetime'].dt.hour\n",
    "plt.hist(df['pickup_hour'], bins=24, edgecolor='black')  \n",
    "plt.title('Pickup Hours Histogram')\n",
    "plt.xlabel('Hour of Day')\n",
    "plt.ylabel('Number of Pickups')\n",
    "plt.xticks(range(0, 24))\n",
    "plt.show()\n"
   ]
  },
  {
   "cell_type": "code",
   "execution_count": null,
   "id": "f6c70e6a",
   "metadata": {},
   "outputs": [],
   "source": [
    "#Graph 2\n",
    "import seaborn as sns\n",
    "import matplotlib.pyplot as plt\n",
    "plt.figure(figsize=(10, 8))\n",
    "sns.scatterplot(x='fare_amount', y='tip_amount', data=df)\n",
    "plt.title('Fare Amount vs Tip Amount')\n",
    "plt.xlabel('Fare Amount')\n",
    "plt.ylabel('Tip Amount')\n",
    "plt.show()"
   ]
  },
  {
   "cell_type": "code",
   "execution_count": null,
   "id": "efc5f41d",
   "metadata": {},
   "outputs": [],
   "source": [
    "#Graph 3\n",
    "import matplotlib.pyplot as plt\n",
    "fares = df[df['fare_amount'].between(0, 120)]\n",
    "data_set = fares[fares['tip_amount'].between(0, 50)]\n",
    "plt.figure(figsize=(10, 6))\n",
    "plt.scatter(data_set['fare_amount'], data_set['tip_amount'])\n",
    "plt.title('Scatter Plot of Fare Amount vs Tip Amount')\n",
    "plt.xlabel('Fare Amount')\n",
    "plt.ylabel('Tip Amount')\n",
    "plt.show()"
   ]
  }
 ],
 "metadata": {
  "kernelspec": {
   "display_name": "Python 3 (ipykernel)",
   "language": "python",
   "name": "python3"
  },
  "language_info": {
   "codemirror_mode": {
    "name": "ipython",
    "version": 3
   },
   "file_extension": ".py",
   "mimetype": "text/x-python",
   "name": "python",
   "nbconvert_exporter": "python",
   "pygments_lexer": "ipython3",
   "version": "3.9.13"
  }
 },
 "nbformat": 4,
 "nbformat_minor": 5
}
