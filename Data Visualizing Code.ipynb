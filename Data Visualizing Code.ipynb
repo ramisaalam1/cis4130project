{
 "cells": [
  {
   "cell_type": "code",
   "execution_count": null,
   "id": "59b80806",
   "metadata": {},
   "outputs": [],
   "source": [
    "spark"
   ]
  },
  {
   "cell_type": "code",
   "execution_count": null,
   "id": "37dc2ba9",
   "metadata": {},
   "outputs": [],
   "source": [
    "import io\n",
    "import numpy as np\n",
    "import matplotlib.pyplot as plt\n",
    "import seaborn as sns\n",
    "import pandas as pd\n"
   ]
  },
  {
   "cell_type": "code",
   "execution_count": null,
   "id": "d8721303",
   "metadata": {},
   "outputs": [],
   "source": [
    "#Read File\n",
    "results_path = \"gs://my-bigdata-project-ra/trusted/results/\"\n",
    "results_df = spark.read.parquet(results_path)\n",
    "\n",
    "sample_set = 0.01 \n",
    "sample_results_df = results_df.sample(False, sample_set)\n",
    "sample_results_df.show(5)\n",
    "pdf_results = sample_results_df.toPandas()\n"
   ]
  },
  {
   "cell_type": "code",
   "execution_count": null,
   "id": "b05ed138",
   "metadata": {},
   "outputs": [],
   "source": [
    "#Visual 1\n",
    "average_tip = pdf_results.groupby('pickup_dayofweek')['tip_amount'].mean().reset_index()\n",
    "\n",
    "days = ['Mon', 'Tue', 'Wed', 'Thu', 'Fri', 'Sat', 'Sun']\n",
    "average_tip['pickup_dayofweek'] = pd.Categorical(average_tip['pickup_dayofweek'], categories=days, ordered=True)\n",
    "average_tip = average_tip.sort_values('pickup_dayofweek')\n",
    "\n",
    "plt.figure(figsize=(12, 6))\n",
    "barplot = sns.barplot(x='pickup_dayofweek', y='tip_amount', data=average_tip, color='blue')\n",
    "y_max = average_tip['tip_amount'].max() + 0.5  \n",
    "plt.ylim(0, y_max)\n",
    "\n",
    "plt.title('Average Tip Amount by Day of the Week')\n",
    "plt.xlabel('Day of the Week')\n",
    "plt.ylabel('Average Tip Amount')\n",
    "\n",
    "for index, bar in enumerate(barplot.patches):\n",
    "    height = bar.get_height()\n",
    "    plt.text(bar.get_x() + bar.get_width() / 2, height, f'{height:.2f}', \n",
    "             ha='center', va='bottom', color='black')\n",
    "plt.show()\n"
   ]
  },
  {
   "cell_type": "code",
   "execution_count": null,
   "id": "50eba40a",
   "metadata": {},
   "outputs": [],
   "source": [
    "# Visual 2\n",
    "columns = [\n",
    "    'total_amount', 'PULocationID', 'DOLocationID', \n",
    "    'passenger_count', 'trip_distance', 'airport_fee'\n",
    "]\n",
    "correlation_df = pdf_results[columns].corr()\n",
    "\n",
    "plt.figure(figsize=(10, 8))\n",
    "sns.heatmap(correlation_df, annot=True, cmap='coolwarm', fmt=\".2f\")\n",
    "plt.title('Correlation Heatmap of Selected Features')\n",
    "plt.show()\n"
   ]
  },
  {
   "cell_type": "code",
   "execution_count": null,
   "id": "584eefe4",
   "metadata": {},
   "outputs": [],
   "source": [
    "#Visual 3\n",
    "pdf_results['pickup_hour'] = pd.to_datetime(pdf_results['tpep_pickup_datetime']).dt.hour\n",
    "\n",
    "hourly_tip = pdf_results.groupby('pickup_hour')['tip_amount'].mean().reset_index()\n",
    "\n",
    "hours = [(str(i) + ' AM' if i < 12 else '12 PM' if i == 12 else str(i-12) + ' PM') for i in range(24)]\n",
    "plt.figure(figsize=(12, 6))\n",
    "plt.plot(hourly_tip['pickup_hour'], hourly_tip['tip_amount'], marker='o')\n",
    "plt.xticks(hourly_tip['pickup_hour'], hours, rotation=45)\n",
    "\n",
    "plt.title('Average Tip Amount by Pickup Hour')\n",
    "plt.xlabel('Hour of the Day')\n",
    "plt.ylabel('Average Tip Amount')\n",
    "plt.grid(False)\n",
    "plt.show()\n"
   ]
  },
  {
   "cell_type": "code",
   "execution_count": null,
   "id": "0ab6397f",
   "metadata": {},
   "outputs": [],
   "source": [
    "#Visual 4\n",
    "plt.figure(figsize=(12, 6))\n",
    "sns.barplot(data=pdf_results, x='passenger_count', y='tip_amount', estimator=np.mean, ci=None, color='blue')\n",
    "plt.title('Average Tip Amount by Passenger Count')\n",
    "plt.xlabel('Passenger Count')\n",
    "plt.ylabel('Average Tip Amount')\n",
    "plt.xticks(rotation=90)\n",
    "plt.show()\n"
   ]
  }
 ],
 "metadata": {
  "kernelspec": {
   "display_name": "Python 3 (ipykernel)",
   "language": "python",
   "name": "python3"
  },
  "language_info": {
   "codemirror_mode": {
    "name": "ipython",
    "version": 3
   },
   "file_extension": ".py",
   "mimetype": "text/x-python",
   "name": "python",
   "nbconvert_exporter": "python",
   "pygments_lexer": "ipython3",
   "version": "3.9.13"
  }
 },
 "nbformat": 4,
 "nbformat_minor": 5
}
